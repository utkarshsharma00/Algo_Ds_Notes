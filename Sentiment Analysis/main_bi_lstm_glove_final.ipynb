{
  "nbformat": 4,
  "nbformat_minor": 0,
  "metadata": {
    "colab": {
      "name": "main_bi_lstm_glove_final.ipynb",
      "version": "0.3.2",
      "provenance": [],
      "collapsed_sections": [],
      "toc_visible": true,
      "include_colab_link": true
    },
    "kernelspec": {
      "name": "python3",
      "display_name": "Python 3"
    },
    "accelerator": "GPU"
  },
  "cells": [
    {
      "cell_type": "markdown",
      "metadata": {
        "id": "view-in-github",
        "colab_type": "text"
      },
      "source": [
        "<a href=\"https://colab.research.google.com/github/utkarshsharma00/Algo_Ds_Notes/blob/master/Sentiment%20Analysis/main_bi_lstm_glove_final.ipynb\" target=\"_parent\"><img src=\"https://colab.research.google.com/assets/colab-badge.svg\" alt=\"Open In Colab\"/></a>"
      ]
    },
    {
      "cell_type": "code",
      "metadata": {
        "id": "0-cOs8xYGTYv",
        "colab_type": "code",
        "outputId": "06e63d87-8fff-4ea8-9922-2372ea97f08f",
        "colab": {
          "base_uri": "https://localhost:8080/",
          "height": 122
        }
      },
      "source": [
        "from google.colab import drive\n",
        "drive.mount('/content/drive')"
      ],
      "execution_count": 0,
      "outputs": [
        {
          "output_type": "stream",
          "text": [
            "Go to this URL in a browser: https://accounts.google.com/o/oauth2/auth?client_id=947318989803-6bn6qk8qdgf4n4g3pfee6491hc0brc4i.apps.googleusercontent.com&redirect_uri=urn%3Aietf%3Awg%3Aoauth%3A2.0%3Aoob&scope=email%20https%3A%2F%2Fwww.googleapis.com%2Fauth%2Fdocs.test%20https%3A%2F%2Fwww.googleapis.com%2Fauth%2Fdrive%20https%3A%2F%2Fwww.googleapis.com%2Fauth%2Fdrive.photos.readonly%20https%3A%2F%2Fwww.googleapis.com%2Fauth%2Fpeopleapi.readonly&response_type=code\n",
            "\n",
            "Enter your authorization code:\n",
            "··········\n",
            "Mounted at /content/drive\n"
          ],
          "name": "stdout"
        }
      ]
    },
    {
      "cell_type": "code",
      "metadata": {
        "id": "7Cr9kcLSXgML",
        "colab_type": "code",
        "outputId": "fc9bb3a8-9709-47b2-ddf1-7e1b7ec1a629",
        "colab": {
          "base_uri": "https://localhost:8080/",
          "height": 359
        }
      },
      "source": [
        "import pandas as pd\n",
        "import numpy as np\n",
        "import os\n",
        "\n",
        "# Dataset Loading\n",
        "'''\n",
        "folder = 'aclImdb'\n",
        "labels = {'pos': 1, 'neg': 0}\n",
        "df = pd.DataFrame()\n",
        "\n",
        "for f in ('test', 'train'):    \n",
        "    for l in ('pos', 'neg'):\n",
        "        path = os.path.join(folder, f, l)\n",
        "        for file in os.listdir (path) :\n",
        "            with open(os.path.join(path, file),'r', encoding='utf-8') as infile:\n",
        "                txt = infile.read()\n",
        "            df = df.append([[txt, labels[l]]],ignore_index = True)\n",
        "            \n",
        "df.columns = ['review', 'sentiment']\n",
        "df.to_csv('movie_data_lstm.csv', index = False, encoding = 'utf-8')\n",
        "'''\n",
        "\n",
        "df = pd.read_csv('/content/drive/My Drive/QUB/Research/movie_data_lstm.csv', encoding = 'utf-8')\n",
        "df.head(10)"
      ],
      "execution_count": 0,
      "outputs": [
        {
          "output_type": "execute_result",
          "data": {
            "text/html": [
              "<div>\n",
              "<style scoped>\n",
              "    .dataframe tbody tr th:only-of-type {\n",
              "        vertical-align: middle;\n",
              "    }\n",
              "\n",
              "    .dataframe tbody tr th {\n",
              "        vertical-align: top;\n",
              "    }\n",
              "\n",
              "    .dataframe thead th {\n",
              "        text-align: right;\n",
              "    }\n",
              "</style>\n",
              "<table border=\"1\" class=\"dataframe\">\n",
              "  <thead>\n",
              "    <tr style=\"text-align: right;\">\n",
              "      <th></th>\n",
              "      <th>review</th>\n",
              "      <th>sentiment</th>\n",
              "    </tr>\n",
              "  </thead>\n",
              "  <tbody>\n",
              "    <tr>\n",
              "      <th>0</th>\n",
              "      <td>I went and saw this movie last night after bei...</td>\n",
              "      <td>1</td>\n",
              "    </tr>\n",
              "    <tr>\n",
              "      <th>1</th>\n",
              "      <td>Actor turned director Bill Paxton follows up h...</td>\n",
              "      <td>1</td>\n",
              "    </tr>\n",
              "    <tr>\n",
              "      <th>2</th>\n",
              "      <td>As a recreational golfer with some knowledge o...</td>\n",
              "      <td>1</td>\n",
              "    </tr>\n",
              "    <tr>\n",
              "      <th>3</th>\n",
              "      <td>I saw this film in a sneak preview, and it is ...</td>\n",
              "      <td>1</td>\n",
              "    </tr>\n",
              "    <tr>\n",
              "      <th>4</th>\n",
              "      <td>Bill Paxton has taken the true story of the 19...</td>\n",
              "      <td>1</td>\n",
              "    </tr>\n",
              "    <tr>\n",
              "      <th>5</th>\n",
              "      <td>I saw this film on September 1st, 2005 in Indi...</td>\n",
              "      <td>1</td>\n",
              "    </tr>\n",
              "    <tr>\n",
              "      <th>6</th>\n",
              "      <td>Maybe I'm reading into this too much, but I wo...</td>\n",
              "      <td>1</td>\n",
              "    </tr>\n",
              "    <tr>\n",
              "      <th>7</th>\n",
              "      <td>I felt this film did have many good qualities....</td>\n",
              "      <td>1</td>\n",
              "    </tr>\n",
              "    <tr>\n",
              "      <th>8</th>\n",
              "      <td>This movie is amazing because the fact that th...</td>\n",
              "      <td>1</td>\n",
              "    </tr>\n",
              "    <tr>\n",
              "      <th>9</th>\n",
              "      <td>\"Quitting\" may be as much about exiting a pre-...</td>\n",
              "      <td>1</td>\n",
              "    </tr>\n",
              "  </tbody>\n",
              "</table>\n",
              "</div>"
            ],
            "text/plain": [
              "                                              review  sentiment\n",
              "0  I went and saw this movie last night after bei...          1\n",
              "1  Actor turned director Bill Paxton follows up h...          1\n",
              "2  As a recreational golfer with some knowledge o...          1\n",
              "3  I saw this film in a sneak preview, and it is ...          1\n",
              "4  Bill Paxton has taken the true story of the 19...          1\n",
              "5  I saw this film on September 1st, 2005 in Indi...          1\n",
              "6  Maybe I'm reading into this too much, but I wo...          1\n",
              "7  I felt this film did have many good qualities....          1\n",
              "8  This movie is amazing because the fact that th...          1\n",
              "9  \"Quitting\" may be as much about exiting a pre-...          1"
            ]
          },
          "metadata": {
            "tags": []
          },
          "execution_count": 2
        }
      ]
    },
    {
      "cell_type": "code",
      "metadata": {
        "id": "C4v0-oIGYX3_",
        "colab_type": "code",
        "outputId": "5949f260-7a9f-458f-e915-30e861316a0f",
        "colab": {
          "base_uri": "https://localhost:8080/",
          "height": 119
        }
      },
      "source": [
        "# Data Preprocessing\n",
        "\n",
        "import string \n",
        "import nltk\n",
        "import multiprocessing\n",
        "nltk.download('punkt')\n",
        "nltk.download('stopwords')\n",
        "from nltk.tokenize import word_tokenize\n",
        "from nltk.corpus import stopwords\n",
        "EMB_DIM = 300\n",
        "\n",
        "review_lines = list()\n",
        "lines = df['review'].values.tolist()\n",
        "max_len = 0\n",
        "#vocab_size = []\n",
        "for line in lines:\n",
        "    line = line.replace('<br />', '')\n",
        "    tokens = word_tokenize(line)\n",
        "    # Convert to lower case\n",
        "    tokens = [w.lower() for w in tokens]\n",
        "    #print(tokens)\n",
        "    # Remove punctuation from each word\n",
        "    table = str.maketrans('', '', string.punctuation)\n",
        "    stripped = [w.translate(table) for w in tokens]\n",
        "    # Remove remaining tokens that are not alphabetic\n",
        "    words = [word for word in stripped if word.isalpha()]\n",
        "    #print(words)\n",
        "    #print(type(words))\n",
        "    #Filter out stop words.\n",
        "    #stop_words = set(stopwords.words('english'))\n",
        "    #words = [w for w in words if not w in stop_words]\n",
        "    #print(words)\n",
        "    if(len(words) > max_len):\n",
        "        max_len = len(words)\n",
        "        \n",
        "    review_lines.append(words)\n",
        "    \n",
        "    '''\n",
        "    for w in words:\n",
        "        if w not in vocab_size:\n",
        "            vocab_size.append(w)\n",
        "            \n",
        "print(len(vocab_size)) \n",
        "'''\n",
        "print(max_len)\n",
        "len(review_lines)"
      ],
      "execution_count": 0,
      "outputs": [
        {
          "output_type": "stream",
          "text": [
            "[nltk_data] Downloading package punkt to /root/nltk_data...\n",
            "[nltk_data]   Unzipping tokenizers/punkt.zip.\n",
            "[nltk_data] Downloading package stopwords to /root/nltk_data...\n",
            "[nltk_data]   Unzipping corpora/stopwords.zip.\n",
            "2470\n"
          ],
          "name": "stdout"
        },
        {
          "output_type": "execute_result",
          "data": {
            "text/plain": [
              "50000"
            ]
          },
          "metadata": {
            "tags": []
          },
          "execution_count": 3
        }
      ]
    },
    {
      "cell_type": "code",
      "metadata": {
        "id": "33de3ARdYehc",
        "colab_type": "code",
        "outputId": "8040eace-1724-4380-8cc5-8c0d251469e6",
        "colab": {
          "base_uri": "https://localhost:8080/",
          "height": 34
        }
      },
      "source": [
        "import os\n",
        "\n",
        "embeddings_index = {}\n",
        "f = open(os.path.join('', '/content/drive/My Drive/QUB/Research/glove.6B.300d.txt'), encoding = 'utf-8')\n",
        "for line in f:\n",
        "    values = line.split()\n",
        "    word = values[0]\n",
        "    foo = np.asarray(values[1:])\n",
        "    embeddings_index[word] = foo\n",
        "    \n",
        "f.close()\n",
        "print('Found %s word vectors' % len(embeddings_index))"
      ],
      "execution_count": 0,
      "outputs": [
        {
          "output_type": "stream",
          "text": [
            "Found 400000 word vectors\n"
          ],
          "name": "stdout"
        }
      ]
    },
    {
      "cell_type": "code",
      "metadata": {
        "id": "Nurs3kDkYh4U",
        "colab_type": "code",
        "outputId": "c93a672a-4b31-468e-8fbd-2a53580f8d44",
        "colab": {
          "base_uri": "https://localhost:8080/",
          "height": 85
        }
      },
      "source": [
        "# Extension of Data Preprocessing\n",
        "\n",
        "from tensorflow.python.keras.preprocessing.text import Tokenizer\n",
        "from tensorflow.python.keras.preprocessing.sequence import pad_sequences\n",
        "\n",
        "'''\n",
        "The documents are integer encoded prior to passing them to the Embedding layer. \n",
        "The integer maps to the index of a specific vector in the Embedding layer. \n",
        "Therefore, it is important to lay the vectors out in the Embedding layer such that the \n",
        "encoded words map to the correct vector.\n",
        "'''\n",
        "\n",
        "# vectorize the text samples into a 2d integer tensor\n",
        "tokenizer_obj = Tokenizer()\n",
        "tokenizer_obj.fit_on_texts(review_lines)\n",
        "sequences = tokenizer_obj.texts_to_sequences(review_lines)\n",
        "\n",
        "\n",
        "word_index = tokenizer_obj.word_index\n",
        "print('Found %s unique tokens' % len(word_index))\n",
        "\n",
        "review_pad = pad_sequences(sequences, maxlen = max_len)\n",
        "print(review_pad.shape)\n",
        "sentiment = df['sentiment'].values\n",
        "print('Shape of review tensor: ', review_pad.shape)\n",
        "print('Shape of sentiment tensor: ', sentiment.shape)"
      ],
      "execution_count": 0,
      "outputs": [
        {
          "output_type": "stream",
          "text": [
            "Found 180164 unique tokens\n",
            "(50000, 2470)\n",
            "Shape of review tensor:  (50000, 2470)\n",
            "Shape of sentiment tensor:  (50000,)\n"
          ],
          "name": "stdout"
        }
      ]
    },
    {
      "cell_type": "code",
      "metadata": {
        "id": "O8qWZuk6YkNl",
        "colab_type": "code",
        "outputId": "a47bbc62-db0e-4e87-e82c-c99fcaf5300f",
        "colab": {
          "base_uri": "https://localhost:8080/",
          "height": 34
        }
      },
      "source": [
        "'''\n",
        "Map embeddings from the loaded glove model for each word to the tokenizer_obj.word_index \n",
        "vocabulary and creating a matrix of word vectors.\n",
        "'''\n",
        "\n",
        "num_words = len(word_index) + 1\n",
        "embedding_matrix  = np.zeros((num_words, EMB_DIM))\n",
        "\n",
        "for word, i in word_index.items():\n",
        "    if i > num_words:\n",
        "        continue\n",
        "    embedding_vector = embeddings_index.get(word)\n",
        "    if embedding_vector is not None:\n",
        "        # words not found in the embedding matrix will all be zeros\n",
        "        embedding_matrix[i] = embedding_vector\n",
        "        \n",
        "print(num_words)"
      ],
      "execution_count": 0,
      "outputs": [
        {
          "output_type": "stream",
          "text": [
            "180165\n"
          ],
          "name": "stdout"
        }
      ]
    },
    {
      "cell_type": "code",
      "metadata": {
        "id": "OH3Z6HbOYrhe",
        "colab_type": "code",
        "outputId": "803150e3-e90c-4ade-9aa7-71270a4130ed",
        "colab": {
          "base_uri": "https://localhost:8080/",
          "height": 513
        }
      },
      "source": [
        "# Model Creation\n",
        "\n",
        "from keras.models import Sequential\n",
        "from keras.layers import Dense, Embedding, LSTM, GRU, Bidirectional\n",
        "from keras.layers.embeddings import Embedding\n",
        "from keras.initializers import Constant\n",
        "from keras.utils.vis_utils import plot_model\n",
        "\n",
        "\n",
        "model = Sequential()\n",
        "embedding_layer = Embedding(num_words, \n",
        "                            EMB_DIM, \n",
        "                            embeddings_initializer = Constant(embedding_matrix), \n",
        "                            input_length = max_len,\n",
        "                            trainable = False)\n",
        "\n",
        "model.add(embedding_layer)\n",
        "model.add(Bidirectional(LSTM(200, activation = 'tanh', \n",
        "                             recurrent_activation = 'hard_sigmoid', \n",
        "                             use_bias = True, \n",
        "                             kernel_initializer = 'glorot_uniform', \n",
        "                             recurrent_initializer = 'orthogonal', \n",
        "                             bias_initializer = 'zeros', \n",
        "                             unit_forget_bias = True, \n",
        "                             kernel_regularizer = None, \n",
        "                             recurrent_regularizer = None, \n",
        "                             bias_regularizer = None, \n",
        "                             activity_regularizer = None, \n",
        "                             kernel_constraint = None, \n",
        "                             recurrent_constraint = None, \n",
        "                             bias_constraint = None, \n",
        "                             dropout = 0.0, \n",
        "                             recurrent_dropout = 0.0, \n",
        "                             implementation = 1, \n",
        "                             return_sequences = False, \n",
        "                             return_state = False, \n",
        "                             go_backwards = False, \n",
        "                             stateful = False, \n",
        "                             unroll = False)))\n",
        "\n",
        "#model.add(GRU(units = 32, dropout = 0.2, recurrent_dropout = 0.2))\n",
        "model.add(Dense(1, activation = 'sigmoid'))\n",
        "model.summary()\n",
        "plot_model(model, to_file = 'model_plot_bi_lstm_glove.png', show_shapes = True, show_layer_names = True)\n",
        "model.compile(loss = 'binary_crossentropy', optimizer = 'adam', metrics = ['accuracy'])"
      ],
      "execution_count": 0,
      "outputs": [
        {
          "output_type": "stream",
          "text": [
            "Using TensorFlow backend.\n",
            "WARNING: Logging before flag parsing goes to stderr.\n",
            "W0731 11:59:20.821037 140426129807232 deprecation_wrapper.py:119] From /usr/local/lib/python3.6/dist-packages/keras/backend/tensorflow_backend.py:74: The name tf.get_default_graph is deprecated. Please use tf.compat.v1.get_default_graph instead.\n",
            "\n",
            "W0731 11:59:20.853902 140426129807232 deprecation_wrapper.py:119] From /usr/local/lib/python3.6/dist-packages/keras/backend/tensorflow_backend.py:517: The name tf.placeholder is deprecated. Please use tf.compat.v1.placeholder instead.\n",
            "\n",
            "W0731 11:59:22.066547 140426129807232 deprecation_wrapper.py:119] From /usr/local/lib/python3.6/dist-packages/keras/backend/tensorflow_backend.py:4138: The name tf.random_uniform is deprecated. Please use tf.random.uniform instead.\n",
            "\n"
          ],
          "name": "stderr"
        },
        {
          "output_type": "stream",
          "text": [
            "_________________________________________________________________\n",
            "Layer (type)                 Output Shape              Param #   \n",
            "=================================================================\n",
            "embedding_1 (Embedding)      (None, 2470, 300)         54049500  \n",
            "_________________________________________________________________\n",
            "bidirectional_1 (Bidirection (None, 400)               801600    \n",
            "_________________________________________________________________\n",
            "dense_1 (Dense)              (None, 1)                 401       \n",
            "=================================================================\n",
            "Total params: 54,851,501\n",
            "Trainable params: 802,001\n",
            "Non-trainable params: 54,049,500\n",
            "_________________________________________________________________\n"
          ],
          "name": "stdout"
        },
        {
          "output_type": "stream",
          "text": [
            "W0731 11:59:23.164138 140426129807232 deprecation_wrapper.py:119] From /usr/local/lib/python3.6/dist-packages/keras/optimizers.py:790: The name tf.train.Optimizer is deprecated. Please use tf.compat.v1.train.Optimizer instead.\n",
            "\n",
            "W0731 11:59:23.191439 140426129807232 deprecation_wrapper.py:119] From /usr/local/lib/python3.6/dist-packages/keras/backend/tensorflow_backend.py:3376: The name tf.log is deprecated. Please use tf.math.log instead.\n",
            "\n",
            "W0731 11:59:23.198004 140426129807232 deprecation.py:323] From /usr/local/lib/python3.6/dist-packages/tensorflow/python/ops/nn_impl.py:180: add_dispatch_support.<locals>.wrapper (from tensorflow.python.ops.array_ops) is deprecated and will be removed in a future version.\n",
            "Instructions for updating:\n",
            "Use tf.where in 2.0, which has the same broadcast rule as np.where\n"
          ],
          "name": "stderr"
        }
      ]
    },
    {
      "cell_type": "code",
      "metadata": {
        "id": "uGMMOkpEY0Zd",
        "colab_type": "code",
        "outputId": "0ed2b156-2db4-41bb-ccc1-0e107f3cc8e4",
        "colab": {
          "base_uri": "https://localhost:8080/",
          "height": 85
        }
      },
      "source": [
        "# Training \n",
        "\n",
        "VALIDATION_SPLIT = 0.2\n",
        "TEST_SPLIT = 0.2\n",
        "\n",
        "indices = np.arange(review_pad.shape[0])\n",
        "np.random.shuffle(indices)\n",
        "review_pad = review_pad[indices]\n",
        "sentiment = sentiment[indices]\n",
        "num_validation_samples = int(VALIDATION_SPLIT * review_pad.shape[0])\n",
        "num_test_samples = int(TEST_SPLIT * review_pad.shape[0])\n",
        "\n",
        "train_size = review_pad.shape[0] - (num_validation_samples + num_test_samples)\n",
        "X_train_pad = review_pad[0:train_size,:]\n",
        "y_train = sentiment[0:train_size]\n",
        "print(X_train_pad.shape)\n",
        "X_val_pad = review_pad[train_size: (train_size + num_validation_samples), :]\n",
        "y_val = sentiment[train_size: (train_size + num_validation_samples)]\n",
        "print(X_val_pad.shape)\n",
        "X_test_pad = review_pad[(train_size + num_validation_samples):review_pad.shape[0],:]\n",
        "y_test = sentiment[(train_size + num_validation_samples):review_pad.shape[0]]\n",
        "print(X_test_pad.shape)\n",
        "\n",
        "print(indices.shape)"
      ],
      "execution_count": 0,
      "outputs": [
        {
          "output_type": "stream",
          "text": [
            "(30000, 2470)\n",
            "(10000, 2470)\n",
            "(10000, 2470)\n",
            "(50000,)\n"
          ],
          "name": "stdout"
        }
      ]
    },
    {
      "cell_type": "code",
      "metadata": {
        "id": "QDWqWeNxY2n3",
        "colab_type": "code",
        "outputId": "88f2126e-23b9-4390-d6bb-5a04ecce13fb",
        "colab": {
          "base_uri": "https://localhost:8080/",
          "height": 207
        }
      },
      "source": [
        "import tensorflow\n",
        "config = tensorflow.ConfigProto(log_device_placement=True)\n",
        "from keras.callbacks import EarlyStopping\n",
        "\n",
        "print('Train...')\n",
        "es = EarlyStopping(monitor = 'val_acc')\n",
        "\n",
        "history = model.fit(X_train_pad, y_train, \n",
        "                    batch_size = 128, epochs = 3, \n",
        "                    validation_data = (X_val_pad, y_val), \n",
        "                    verbose = 2, callbacks = [es])"
      ],
      "execution_count": 0,
      "outputs": [
        {
          "output_type": "stream",
          "text": [
            "Train...\n"
          ],
          "name": "stdout"
        },
        {
          "output_type": "stream",
          "text": [
            "W0731 11:59:25.327436 140426129807232 deprecation_wrapper.py:119] From /usr/local/lib/python3.6/dist-packages/keras/backend/tensorflow_backend.py:986: The name tf.assign_add is deprecated. Please use tf.compat.v1.assign_add instead.\n",
            "\n"
          ],
          "name": "stderr"
        },
        {
          "output_type": "stream",
          "text": [
            "Train on 30000 samples, validate on 10000 samples\n",
            "Epoch 1/3\n",
            " - 1876s - loss: 0.5289 - acc: 0.7360 - val_loss: 0.4330 - val_acc: 0.8064\n",
            "Epoch 2/3\n",
            " - 1832s - loss: 0.3869 - acc: 0.8333 - val_loss: 0.3334 - val_acc: 0.8595\n",
            "Epoch 3/3\n",
            " - 1823s - loss: 0.3143 - acc: 0.8671 - val_loss: 0.2949 - val_acc: 0.8786\n"
          ],
          "name": "stdout"
        }
      ]
    },
    {
      "cell_type": "code",
      "metadata": {
        "id": "FhGa77R9ZEVj",
        "colab_type": "code",
        "outputId": "3156771f-cf71-4094-a230-df1364040802",
        "colab": {
          "base_uri": "https://localhost:8080/",
          "height": 34
        }
      },
      "source": [
        "from sklearn.metrics import accuracy_score\n",
        "\n",
        "ynew_pred = model.predict(X_test_pad)\n",
        "ynew_pred[ynew_pred > 0.5] = 1\n",
        "ynew_pred[ynew_pred < 0.5] = 0\n",
        "acc = accuracy_score(y_test, ynew_pred, normalize = True)\n",
        "print(acc)"
      ],
      "execution_count": 0,
      "outputs": [
        {
          "output_type": "stream",
          "text": [
            "0.8805\n"
          ],
          "name": "stdout"
        }
      ]
    },
    {
      "cell_type": "markdown",
      "metadata": {
        "id": "5EObz0P9ZdRG",
        "colab_type": "text"
      },
      "source": [
        "Here in both the Graphs Test (orange color) represents the Validation Set and NOT the Training Set. Forgot to alter the names."
      ]
    },
    {
      "cell_type": "code",
      "metadata": {
        "id": "tO6w_kA_ZHxP",
        "colab_type": "code",
        "outputId": "1887cf02-9500-4e56-b0c3-9232335f01f7",
        "colab": {
          "base_uri": "https://localhost:8080/",
          "height": 573
        }
      },
      "source": [
        "import matplotlib.pyplot as plt\n",
        "\n",
        "# Plot training & validation accuracy values\n",
        "plt.plot(history.history['acc'])\n",
        "plt.plot(history.history['val_acc'])\n",
        "plt.title('Model accuracy')\n",
        "plt.ylabel('Accuracy')\n",
        "plt.xlabel('Epoch')\n",
        "plt.legend(['Train', 'Test'], loc = 'upper left')\n",
        "plt.show()\n",
        "\n",
        "# Plot training & validation loss values\n",
        "plt.plot(history.history['loss'])\n",
        "plt.plot(history.history['val_loss'])\n",
        "plt.title('Model loss')\n",
        "plt.ylabel('Loss')\n",
        "plt.xlabel('Epoch')\n",
        "plt.legend(['Train', 'Test'], loc = 'upper left')\n",
        "plt.show()"
      ],
      "execution_count": 0,
      "outputs": [
        {
          "output_type": "display_data",
          "data": {
            "image/png": "[encoded data removed]",
            "text/plain": [
              "<Figure size 432x288 with 1 Axes>"
            ]
          },
          "metadata": {
            "tags": []
          }
        },
        {
          "output_type": "display_data",
          "data": {
            "image/png": "[encoded data removed]",
            "text/plain": [
              "<Figure size 432x288 with 1 Axes>"
            ]
          },
          "metadata": {
            "tags": []
          }
        }
      ]
    }
  ]
}